{
 "cells": [
  {
   "cell_type": "code",
   "execution_count": 19,
   "metadata": {},
   "outputs": [
    {
     "name": "stderr",
     "output_type": "stream",
     "text": [
      "C:\\Users\\saira\\AppData\\Local\\Packages\\PythonSoftwareFoundation.Python.3.11_qbz5n2kfra8p0\\LocalCache\\local-packages\\Python311\\site-packages\\tqdm\\auto.py:21: TqdmWarning: IProgress not found. Please update jupyter and ipywidgets. See https://ipywidgets.readthedocs.io/en/stable/user_install.html\n",
      "  from .autonotebook import tqdm as notebook_tqdm\n"
     ]
    }
   ],
   "source": [
    "from datasets import load_dataset\n",
    "\n",
    "dataset = load_dataset(\"cnn_dailymail\", '3.0.0')"
   ]
  },
  {
   "cell_type": "code",
   "execution_count": 21,
   "metadata": {},
   "outputs": [],
   "source": [
    "test_dataset = dataset['test']"
   ]
  },
  {
   "cell_type": "code",
   "execution_count": 22,
   "metadata": {},
   "outputs": [],
   "source": [
    "test_dataset = test_dataset.map(lambda ex: {'reference_summary': ex['highlights']})"
   ]
  },
  {
   "cell_type": "code",
   "execution_count": 23,
   "metadata": {},
   "outputs": [
    {
     "data": {
      "text/plain": [
       "Dataset({\n",
       "    features: ['article', 'highlights', 'id', 'reference_summary'],\n",
       "    num_rows: 11490\n",
       "})"
      ]
     },
     "execution_count": 23,
     "metadata": {},
     "output_type": "execute_result"
    }
   ],
   "source": [
    "test_dataset"
   ]
  },
  {
   "cell_type": "code",
   "execution_count": 21,
   "metadata": {},
   "outputs": [
    {
     "name": "stdout",
     "output_type": "stream",
     "text": [
      "(CNN)The Palestinian Authority officially became the 123rd member of the International Criminal Court on Wednesday, a step that gives the court jurisdiction over alleged crimes in Palestinian territories. The formal accession was marked with a ceremony at The Hague, in the Netherlands, where the court is based. The Palestinians signed the ICC's founding Rome Statute in January, when they also accepted its jurisdiction over alleged crimes committed \"in the occupied Palestinian territory, including East Jerusalem, since June 13, 2014.\" Later that month, the ICC opened a preliminary examination into the situation in Palestinian territories, paving the way for possible war crimes investigations against Israelis. As members of the court, Palestinians may be subject to counter-charges as well. Israel and the United States, neither of which is an ICC member, opposed the Palestinians' efforts to join the body. But Palestinian Foreign Minister Riad al-Malki, speaking at Wednesday's ceremony, said it was a move toward greater justice. \"As Palestine formally becomes a State Party to the Rome Statute today, the world is also a step closer to ending a long era of impunity and injustice,\" he said, according to an ICC news release. \"Indeed, today brings us closer to our shared goals of justice and peace.\" Judge Kuniko Ozaki, a vice president of the ICC, said acceding to the treaty was just the first step for the Palestinians. \"As the Rome Statute today enters into force for the State of Palestine, Palestine acquires all the rights as well as responsibilities that come with being a State Party to the Statute. These are substantive commitments, which cannot be taken lightly,\" she said. Rights group Human Rights Watch welcomed the development. \"Governments seeking to penalize Palestine for joining the ICC should immediately end their pressure, and countries that support universal acceptance of the court's treaty should speak out to welcome its membership,\" said Balkees Jarrah, international justice counsel for the group. \"What's objectionable is the attempts to undermine international justice, not Palestine's decision to join a treaty to which over 100 countries around the world are members.\" In January, when the preliminary ICC examination was opened, Israeli Prime Minister Benjamin Netanyahu described it as an outrage, saying the court was overstepping its boundaries. The United States also said it \"strongly\" disagreed with the court's decision. \"As we have said repeatedly, we do not believe that Palestine is a state and therefore we do not believe that it is eligible to join the ICC,\" the State Department said in a statement. It urged the warring sides to resolve their differences through direct negotiations. \"We will continue to oppose actions against Israel at the ICC as counterproductive to the cause of peace,\" it said. But the ICC begs to differ with the definition of a state for its purposes and refers to the territories as \"Palestine.\" While a preliminary examination is not a formal investigation, it allows the court to review evidence and determine whether to investigate suspects on both sides. Prosecutor Fatou Bensouda said her office would \"conduct its analysis in full independence and impartiality.\" The war between Israel and Hamas militants in Gaza last summer left more than 2,000 people dead. The inquiry will include alleged war crimes committed since June. The International Criminal Court was set up in 2002 to prosecute genocide, crimes against humanity and war crimes. CNN's Vasco Cotovio, Kareem Khadder and Faith Karimi contributed to this report.\n",
      "\n",
      "****\n",
      "Membership gives the ICC jurisdiction over alleged crimes committed in Palestinian territories since last June .\n",
      "Israel and the United States opposed the move, which could open the door to war crimes investigations against Israelis .\n",
      "\n",
      "****\n",
      "Membership gives the ICC jurisdiction over alleged crimes committed in Palestinian territories since last June .\n",
      "Israel and the United States opposed the move, which could open the door to war crimes investigations against Israelis .\n"
     ]
    }
   ],
   "source": [
    "output_list = []\n",
    "for input in test_dataset:\n",
    "    print(input['article'])\n",
    "    print('\\n****')\n",
    "    print(input['highlights'])\n",
    "    print('\\n****')\n",
    "    print(input['reference_summary'])\n",
    "    break"
   ]
  },
  {
   "cell_type": "code",
   "execution_count": 24,
   "metadata": {},
   "outputs": [],
   "source": [
    "test_dataset = test_dataset.select(list(range(10)))"
   ]
  },
  {
   "cell_type": "code",
   "execution_count": 25,
   "metadata": {},
   "outputs": [
    {
     "data": {
      "text/plain": [
       "Dataset({\n",
       "    features: ['article', 'highlights', 'id', 'reference_summary'],\n",
       "    num_rows: 10\n",
       "})"
      ]
     },
     "execution_count": 25,
     "metadata": {},
     "output_type": "execute_result"
    }
   ],
   "source": [
    "test_dataset"
   ]
  },
  {
   "cell_type": "code",
   "execution_count": 26,
   "metadata": {},
   "outputs": [
    {
     "name": "stderr",
     "output_type": "stream",
     "text": [
      "Some weights of PegasusForConditionalGeneration were not initialized from the model checkpoint at google/pegasus-cnn_dailymail and are newly initialized: ['model.decoder.embed_positions.weight', 'model.encoder.embed_positions.weight']\n",
      "You should probably TRAIN this model on a down-stream task to be able to use it for predictions and inference.\n"
     ]
    }
   ],
   "source": [
    "from transformers import PegasusForConditionalGeneration, PegasusTokenizer\n",
    "import torch\n",
    "\n",
    "#src_text = test_dataset['article'][0]\n",
    "output_list = []\n",
    "model_name = \"google/pegasus-cnn_dailymail\"\n",
    "device = \"cuda\" if torch.cuda.is_available() else \"cpu\"\n",
    "tokenizer = PegasusTokenizer.from_pretrained(model_name)\n",
    "model = PegasusForConditionalGeneration.from_pretrained(model_name).to(device)\n",
    "\n",
    "for input in test_dataset:\n",
    "    batch = tokenizer(input['article'], truncation=True, padding=\"longest\", return_tensors=\"pt\").to(device)\n",
    "    translated = model.generate(**batch)\n",
    "    op_text = tokenizer.batch_decode(translated, skip_special_tokens=True)\n",
    "    output_list.append(op_text)\n",
    "# assert (\n",
    "#     tgt_text[0]\n",
    "#     == \"California's largest electricity provider has turned off power to hundreds of thousands of customers.\"\n",
    "# )"
   ]
  },
  {
   "cell_type": "code",
   "execution_count": 27,
   "metadata": {},
   "outputs": [
    {
     "data": {
      "text/plain": [
       "[[\"The Palestinian Authority formally becomes the 123rd member of the International Criminal Court.<n>The move gives the court jurisdiction over alleged crimes in Palestinian territories.<n>Palestinians signed the ICC's founding Rome Statute in January.\"],\n",
       " ['Theia, a white-and-black bully breed mix, was apparently hit by a car and buried in a field.<n>Four days later, the dog staggers to a farm and is taken in by a worker.<n>She needs surgery to fix a dislocated jaw and a caved-in sinus cavity.'],\n",
       " [\"Mohammad Javad Zarif is the Iranian foreign minister.<n>He is the opposite number in talks with the U.S. over Iran's nuclear program.<n>He received a hero's welcome as he arrived in Iran on a sunny Friday morning.\"],\n",
       " [\"One of the five had a heart-related issue on Saturday and has been discharged but hasn't left the area.<n>They were exposed to Ebola in Sierra Leone in March, but none developed the deadly virus.\"],\n",
       " [\"A student has admitted to hanging a noose from a tree near a student union, Duke says.<n>The prestigious private school didn't identify the student, citing federal privacy laws.\"],\n",
       " ['Trey Moses is a star high school basketball player in Louisville, Kentucky.<n>He made the prom-posal in the gym during Ellie Meredith\\'s P.E. class.<n>\"She\\'s great... she listens and she\\'s easy to talk to,\" Trey said.'],\n",
       " ['Amnesty International releases its annual report on the death penalty.<n>At least 2,466 people globally were confirmed to have been handed the sentence last year.<n>At least 607 people were executed around the world in 2014, compared to 778 in 2013.'],\n",
       " ['Coroner\\'s preliminary assessment is there was no foul play involved, detective says.<n>Andrew Getty, 47, had \"several health issues,\" detective says.'],\n",
       " [\"Tropical storm Maysak is centered 200 miles southwest of Aurora province.<n>It's expected to make landfall Sunday morning on the southeastern coast of Isabela province.\"],\n",
       " ['Bob Barker returns to \"The Price Is Right\" for the first time in eight years.<n>The 91-year-old TV legend hosted the classic \"Lucky Seven\" game.']]"
      ]
     },
     "execution_count": 27,
     "metadata": {},
     "output_type": "execute_result"
    }
   ],
   "source": [
    "output_list"
   ]
  },
  {
   "cell_type": "code",
   "execution_count": 32,
   "metadata": {},
   "outputs": [
    {
     "name": "stdout",
     "output_type": "stream",
     "text": [
      "Article  0\n",
      "\n",
      "Reference Summary: \n",
      " Membership gives the ICC jurisdiction over alleged crimes committed in Palestinian territories since last June .\n",
      "Israel and the United States opposed the move, which could open the door to war crimes investigations against Israelis .\n",
      "\n",
      "Predicted Summary: \n",
      " The Palestinian Authority formally becomes the 123rd member of the International Criminal Court.<n>The move gives the court jurisdiction over alleged crimes in Palestinian territories.<n>Palestinians signed the ICC's founding Rome Statute in January.\n",
      "\n",
      "SCORES\n",
      "\n",
      "BLEU:  0.08892786873926031\n",
      "\n",
      "Rouge:  [{'rouge-1': {'r': 0.3, 'p': 0.3103448275862069, 'f': 0.3050847407641483}, 'rouge-2': {'r': 0.18181818181818182, 'p': 0.18181818181818182, 'f': 0.18181817681818196}, 'rouge-l': {'r': 0.3, 'p': 0.3103448275862069, 'f': 0.3050847407641483}}]\n",
      "\n",
      "Length:  250\n",
      "_______________________________________________________________________________________\n",
      "\n",
      "Article  1\n",
      "\n",
      "Reference Summary: \n",
      " Theia, a bully breed mix, was apparently hit by a car, whacked with a hammer and buried in a field .\n",
      "\"She's a true miracle dog and she deserves a good life,\" says Sara Mellado, who is looking for a home for Theia .\n",
      "\n",
      "Predicted Summary: \n",
      " Theia, a white-and-black bully breed mix, was apparently hit by a car and buried in a field.<n>Four days later, the dog staggers to a farm and is taken in by a worker.<n>She needs surgery to fix a dislocated jaw and a caved-in sinus cavity.\n",
      "\n",
      "SCORES\n",
      "\n",
      "BLEU:  0.24784977644410963\n",
      "\n",
      "Rouge:  [{'rouge-1': {'r': 0.4411764705882353, 'p': 0.42857142857142855, 'f': 0.4347826036967024}, 'rouge-2': {'r': 0.2926829268292683, 'p': 0.2727272727272727, 'f': 0.28235293618269897}, 'rouge-l': {'r': 0.4411764705882353, 'p': 0.42857142857142855, 'f': 0.4347826036967024}}]\n",
      "\n",
      "Length:  240\n",
      "_______________________________________________________________________________________\n",
      "\n",
      "Article  2\n",
      "\n",
      "Reference Summary: \n",
      " Mohammad Javad Zarif has spent more time with John Kerry than any other foreign minister .\n",
      "He once participated in a takeover of the Iranian Consulate in San Francisco .\n",
      "The Iranian foreign minister tweets in English .\n",
      "\n",
      "Predicted Summary: \n",
      " Mohammad Javad Zarif is the Iranian foreign minister.<n>He is the opposite number in talks with the U.S. over Iran's nuclear program.<n>He received a hero's welcome as he arrived in Iran on a sunny Friday morning.\n",
      "\n",
      "SCORES\n",
      "\n",
      "BLEU:  1.8505066993921183e-78\n",
      "\n",
      "Rouge:  [{'rouge-1': {'r': 0.3333333333333333, 'p': 0.3125, 'f': 0.3225806401664933}, 'rouge-2': {'r': 0.15151515151515152, 'p': 0.1388888888888889, 'f': 0.144927531241336}, 'rouge-l': {'r': 0.3333333333333333, 'p': 0.3125, 'f': 0.3225806401664933}}]\n",
      "\n",
      "Length:  213\n",
      "_______________________________________________________________________________________\n",
      "\n",
      "Article  3\n",
      "\n",
      "Reference Summary: \n",
      " 17 Americans were exposed to the Ebola virus while in Sierra Leone in March .\n",
      "Another person was diagnosed with the disease and taken to hospital in Maryland .\n",
      "National Institutes of Health says the patient is in fair condition after weeks of treatment .\n",
      "\n",
      "Predicted Summary: \n",
      " One of the five had a heart-related issue on Saturday and has been discharged but hasn't left the area.<n>They were exposed to Ebola in Sierra Leone in March, but none developed the deadly virus.\n",
      "\n",
      "SCORES\n",
      "\n",
      "BLEU:  0.12093363269423679\n",
      "\n",
      "Rouge:  [{'rouge-1': {'r': 0.3142857142857143, 'p': 0.3548387096774194, 'f': 0.3333333283516988}, 'rouge-2': {'r': 0.12195121951219512, 'p': 0.14705882352941177, 'f': 0.13333332837688905}, 'rouge-l': {'r': 0.2857142857142857, 'p': 0.3225806451612903, 'f': 0.3030302980486685}}]\n",
      "\n",
      "Length:  195\n",
      "_______________________________________________________________________________________\n",
      "\n",
      "Article  4\n",
      "\n",
      "Reference Summary: \n",
      " Student is no longer on Duke University campus and will face disciplinary review .\n",
      "School officials identified student during investigation and the person admitted to hanging the noose, Duke says .\n",
      "The noose, made of rope, was discovered on campus about 2 a.m.\n",
      "\n",
      "Predicted Summary: \n",
      " A student has admitted to hanging a noose from a tree near a student union, Duke says.<n>The prestigious private school didn't identify the student, citing federal privacy laws.\n",
      "\n",
      "SCORES\n",
      "\n",
      "BLEU:  1.498998283675549e-78\n",
      "\n",
      "Rouge:  [{'rouge-1': {'r': 0.2222222222222222, 'p': 0.3076923076923077, 'f': 0.2580645112591052}, 'rouge-2': {'r': 0.07317073170731707, 'p': 0.10714285714285714, 'f': 0.08695651691661443}, 'rouge-l': {'r': 0.2222222222222222, 'p': 0.3076923076923077, 'f': 0.2580645112591052}}]\n",
      "\n",
      "Length:  177\n",
      "_______________________________________________________________________________________\n",
      "\n",
      "Article  5\n",
      "\n",
      "Reference Summary: \n",
      " College-bound basketball star asks girl with Down syndrome to high school prom .\n",
      "Pictures of the two during the \"prom-posal\" have gone viral .\n",
      "\n",
      "Predicted Summary: \n",
      " Trey Moses is a star high school basketball player in Louisville, Kentucky.<n>He made the prom-posal in the gym during Ellie Meredith's P.E. class.<n>\"She's great... she listens and she's easy to talk to,\" Trey said.\n",
      "\n",
      "SCORES\n",
      "\n",
      "BLEU:  3.868781008599761e-155\n",
      "\n",
      "Rouge:  [{'rouge-1': {'r': 0.3333333333333333, 'p': 0.20588235294117646, 'f': 0.25454544982479343}, 'rouge-2': {'r': 0.047619047619047616, 'p': 0.027777777777777776, 'f': 0.03508771464450662}, 'rouge-l': {'r': 0.23809523809523808, 'p': 0.14705882352941177, 'f': 0.1818181770975208}}]\n",
      "\n",
      "Length:  216\n",
      "_______________________________________________________________________________________\n",
      "\n",
      "Article  6\n",
      "\n",
      "Reference Summary: \n",
      " Amnesty's annual death penalty report catalogs encouraging signs, but setbacks in numbers of those sentenced to death .\n",
      "Organization claims that governments around the world are using the threat of terrorism to advance executions .\n",
      "The number of executions worldwide has gone down by almost 22% compared with 2013, but death sentences up by 28% .\n",
      "\n",
      "Predicted Summary: \n",
      " Amnesty International releases its annual report on the death penalty.<n>At least 2,466 people globally were confirmed to have been handed the sentence last year.<n>At least 607 people were executed around the world in 2014, compared to 778 in 2013.\n",
      "\n",
      "SCORES\n",
      "\n",
      "BLEU:  1.227085418480525e-78\n",
      "\n",
      "Rouge:  [{'rouge-1': {'r': 0.22727272727272727, 'p': 0.30303030303030304, 'f': 0.2597402548423006}, 'rouge-2': {'r': 0.057692307692307696, 'p': 0.07692307692307693, 'f': 0.0659340610361071}, 'rouge-l': {'r': 0.20454545454545456, 'p': 0.2727272727272727, 'f': 0.2337662288682747}}]\n",
      "\n",
      "Length:  249\n",
      "_______________________________________________________________________________________\n",
      "\n",
      "Article  7\n",
      "\n",
      "Reference Summary: \n",
      " Andrew Getty's death appears to be from natural causes, police say, citing coroner's early assessment .\n",
      "In a petition for a restraining order, Getty had written he had a serious medical condition.\n",
      "Police say this is not a criminal matter at this time .\n",
      "\n",
      "Predicted Summary: \n",
      " Coroner's preliminary assessment is there was no foul play involved, detective says.<n>Andrew Getty, 47, had \"several health issues,\" detective says.\n",
      "\n",
      "SCORES\n",
      "\n",
      "BLEU:  2.6931072657882224e-155\n",
      "\n",
      "Rouge:  [{'rouge-1': {'r': 0.08108108108108109, 'p': 0.15789473684210525, 'f': 0.10714285265943896}, 'rouge-2': {'r': 0.0, 'p': 0.0, 'f': 0.0}, 'rouge-l': {'r': 0.08108108108108109, 'p': 0.15789473684210525, 'f': 0.10714285265943896}}]\n",
      "\n",
      "Length:  149\n",
      "_______________________________________________________________________________________\n",
      "\n",
      "Article  8\n",
      "\n",
      "Reference Summary: \n",
      " Once a super typhoon, Maysak is now a tropical storm with 70 mph winds .\n",
      "It could still cause flooding, landslides and other problems in the Philippines .\n",
      "\n",
      "Predicted Summary: \n",
      " Tropical storm Maysak is centered 200 miles southwest of Aurora province.<n>It's expected to make landfall Sunday morning on the southeastern coast of Isabela province.\n",
      "\n",
      "SCORES\n",
      "\n",
      "BLEU:  4.298631483271809e-155\n",
      "\n",
      "Rouge:  [{'rouge-1': {'r': 0.16, 'p': 0.17391304347826086, 'f': 0.16666666167534736}, 'rouge-2': {'r': 0.04, 'p': 0.041666666666666664, 'f': 0.04081632153269532}, 'rouge-l': {'r': 0.12, 'p': 0.13043478260869565, 'f': 0.12499999500868073}}]\n",
      "\n",
      "Length:  168\n",
      "_______________________________________________________________________________________\n",
      "\n",
      "Article  9\n",
      "\n",
      "Reference Summary: \n",
      " Bob Barker returned to host \"The Price Is Right\" on Wednesday .\n",
      "Barker, 91, had retired as host in 2007 .\n",
      "\n",
      "Predicted Summary: \n",
      " Bob Barker returns to \"The Price Is Right\" for the first time in eight years.<n>The 91-year-old TV legend hosted the classic \"Lucky Seven\" game.\n",
      "\n",
      "SCORES\n",
      "\n",
      "BLEU:  0.16851733356647097\n",
      "\n",
      "Rouge:  [{'rouge-1': {'r': 0.4444444444444444, 'p': 0.3333333333333333, 'f': 0.38095237605442184}, 'rouge-2': {'r': 0.2222222222222222, 'p': 0.16666666666666666, 'f': 0.19047618557823143}, 'rouge-l': {'r': 0.4444444444444444, 'p': 0.3333333333333333, 'f': 0.38095237605442184}}]\n",
      "\n",
      "Length:  144\n",
      "_______________________________________________________________________________________\n",
      "\n"
     ]
    },
    {
     "name": "stderr",
     "output_type": "stream",
     "text": [
      "C:\\Users\\saira\\AppData\\Local\\Packages\\PythonSoftwareFoundation.Python.3.11_qbz5n2kfra8p0\\LocalCache\\local-packages\\Python311\\site-packages\\nltk\\translate\\bleu_score.py:552: UserWarning: \n",
      "The hypothesis contains 0 counts of 4-gram overlaps.\n",
      "Therefore the BLEU score evaluates to 0, independently of\n",
      "how many N-gram overlaps of lower order it contains.\n",
      "Consider using lower n-gram order or use SmoothingFunction()\n",
      "  warnings.warn(_msg)\n",
      "C:\\Users\\saira\\AppData\\Local\\Packages\\PythonSoftwareFoundation.Python.3.11_qbz5n2kfra8p0\\LocalCache\\local-packages\\Python311\\site-packages\\nltk\\translate\\bleu_score.py:552: UserWarning: \n",
      "The hypothesis contains 0 counts of 3-gram overlaps.\n",
      "Therefore the BLEU score evaluates to 0, independently of\n",
      "how many N-gram overlaps of lower order it contains.\n",
      "Consider using lower n-gram order or use SmoothingFunction()\n",
      "  warnings.warn(_msg)\n"
     ]
    }
   ],
   "source": [
    "from nltk.translate.bleu_score import sentence_bleu\n",
    "import nltk\n",
    "from rouge import Rouge\n",
    "lenlist = []\n",
    "rouge = Rouge()\n",
    "for i in range(10):\n",
    "    print(\"Article \",i)\n",
    "    print()\n",
    "    print(\"Reference Summary: \\n\",test_dataset['reference_summary'][i])\n",
    "    print()\n",
    "    print(\"Predicted Summary: \\n\", output_list[i][0])\n",
    "    print()\n",
    "    print('SCORES\\n')\n",
    "    reference_summary_tokens = nltk.word_tokenize(test_dataset['reference_summary'][i])\n",
    "    generated_summary_tokens = nltk.word_tokenize(output_list[i][0])\n",
    "    bleu_score = sentence_bleu([reference_summary_tokens], generated_summary_tokens)\n",
    "    print('BLEU: ',bleu_score)\n",
    "    print()\n",
    "    rougescore = rouge.get_scores(output_list[i], [test_dataset['reference_summary'][i]])\n",
    "    print('Rouge: ', rougescore)\n",
    "    print()\n",
    "    print('Length: ', len(output_list[i][0]))\n",
    "    lenlist.append(len(output_list[i][0]))\n",
    "    print('_______________________________________________________________________________________')\n",
    "    print()"
   ]
  },
  {
   "cell_type": "code",
   "execution_count": 36,
   "metadata": {},
   "outputs": [
    {
     "name": "stdout",
     "output_type": "stream",
     "text": [
      "200.1\n"
     ]
    }
   ],
   "source": [
    "avg = sum(lenlist)/len(lenlist)\n",
    "print(avg)"
   ]
  },
  {
   "cell_type": "code",
   "execution_count": 37,
   "metadata": {},
   "outputs": [
    {
     "data": {
      "text/plain": [
       "[250, 240, 213, 195, 177, 216, 249, 149, 168, 144]"
      ]
     },
     "execution_count": 37,
     "metadata": {},
     "output_type": "execute_result"
    }
   ],
   "source": [
    "lenlist"
   ]
  },
  {
   "cell_type": "code",
   "execution_count": 22,
   "metadata": {},
   "outputs": [
    {
     "name": "stdout",
     "output_type": "stream",
     "text": [
      "[{'rouge-1': {'r': 0.3, 'p': 0.3103448275862069, 'f': 0.3050847407641483}, 'rouge-2': {'r': 0.18181818181818182, 'p': 0.18181818181818182, 'f': 0.18181817681818196}, 'rouge-l': {'r': 0.3, 'p': 0.3103448275862069, 'f': 0.3050847407641483}}]\n"
     ]
    }
   ],
   "source": [
    "print(rouge.get_scores(output_list[0], [test_dataset['reference_summary'][0]]))"
   ]
  },
  {
   "cell_type": "code",
   "execution_count": 19,
   "metadata": {},
   "outputs": [
    {
     "data": {
      "text/plain": [
       "[\"The Palestinian Authority formally becomes the 123rd member of the International Criminal Court.<n>The move gives the court jurisdiction over alleged crimes in Palestinian territories.<n>Palestinians signed the ICC's founding Rome Statute in January.\"]"
      ]
     },
     "execution_count": 19,
     "metadata": {},
     "output_type": "execute_result"
    }
   ],
   "source": [
    "output_list[0]"
   ]
  },
  {
   "cell_type": "code",
   "execution_count": 21,
   "metadata": {},
   "outputs": [
    {
     "data": {
      "text/plain": [
       "'Membership gives the ICC jurisdiction over alleged crimes committed in Palestinian territories since last June .\\nIsrael and the United States opposed the move, which could open the door to war crimes investigations against Israelis .'"
      ]
     },
     "execution_count": 21,
     "metadata": {},
     "output_type": "execute_result"
    }
   ],
   "source": [
    "test_dataset['reference_summary'][0]"
   ]
  },
  {
   "cell_type": "code",
   "execution_count": 16,
   "metadata": {},
   "outputs": [
    {
     "data": {
      "text/plain": [
       "'(CNN)The Palestinian Authority officially became the 123rd member of the International Criminal Court on Wednesday, a step that gives the court jurisdiction over alleged crimes in Palestinian territories. The formal accession was marked with a ceremony at The Hague, in the Netherlands, where the court is based. The Palestinians signed the ICC\\'s founding Rome Statute in January, when they also accepted its jurisdiction over alleged crimes committed \"in the occupied Palestinian territory, including East Jerusalem, since June 13, 2014.\" Later that month, the ICC opened a preliminary examination into the situation in Palestinian territories, paving the way for possible war crimes investigations against Israelis. As members of the court, Palestinians may be subject to counter-charges as well. Israel and the United States, neither of which is an ICC member, opposed the Palestinians\\' efforts to join the body. But Palestinian Foreign Minister Riad al-Malki, speaking at Wednesday\\'s ceremony, said it was a move toward greater justice. \"As Palestine formally becomes a State Party to the Rome Statute today, the world is also a step closer to ending a long era of impunity and injustice,\" he said, according to an ICC news release. \"Indeed, today brings us closer to our shared goals of justice and peace.\" Judge Kuniko Ozaki, a vice president of the ICC, said acceding to the treaty was just the first step for the Palestinians. \"As the Rome Statute today enters into force for the State of Palestine, Palestine acquires all the rights as well as responsibilities that come with being a State Party to the Statute. These are substantive commitments, which cannot be taken lightly,\" she said. Rights group Human Rights Watch welcomed the development. \"Governments seeking to penalize Palestine for joining the ICC should immediately end their pressure, and countries that support universal acceptance of the court\\'s treaty should speak out to welcome its membership,\" said Balkees Jarrah, international justice counsel for the group. \"What\\'s objectionable is the attempts to undermine international justice, not Palestine\\'s decision to join a treaty to which over 100 countries around the world are members.\" In January, when the preliminary ICC examination was opened, Israeli Prime Minister Benjamin Netanyahu described it as an outrage, saying the court was overstepping its boundaries. The United States also said it \"strongly\" disagreed with the court\\'s decision. \"As we have said repeatedly, we do not believe that Palestine is a state and therefore we do not believe that it is eligible to join the ICC,\" the State Department said in a statement. It urged the warring sides to resolve their differences through direct negotiations. \"We will continue to oppose actions against Israel at the ICC as counterproductive to the cause of peace,\" it said. But the ICC begs to differ with the definition of a state for its purposes and refers to the territories as \"Palestine.\" While a preliminary examination is not a formal investigation, it allows the court to review evidence and determine whether to investigate suspects on both sides. Prosecutor Fatou Bensouda said her office would \"conduct its analysis in full independence and impartiality.\" The war between Israel and Hamas militants in Gaza last summer left more than 2,000 people dead. The inquiry will include alleged war crimes committed since June. The International Criminal Court was set up in 2002 to prosecute genocide, crimes against humanity and war crimes. CNN\\'s Vasco Cotovio, Kareem Khadder and Faith Karimi contributed to this report.'"
      ]
     },
     "execution_count": 16,
     "metadata": {},
     "output_type": "execute_result"
    }
   ],
   "source": [
    "test_dataset['article'][0]"
   ]
  },
  {
   "cell_type": "code",
   "execution_count": 17,
   "metadata": {},
   "outputs": [
    {
     "data": {
      "text/plain": [
       "['Bob Barker returns to \"The Price Is Right\" for the first time in eight years.<n>The 91-year-old TV legend hosted the classic \"Lucky Seven\" game.']"
      ]
     },
     "execution_count": 17,
     "metadata": {},
     "output_type": "execute_result"
    }
   ],
   "source": [
    "op_text"
   ]
  },
  {
   "cell_type": "code",
   "execution_count": null,
   "metadata": {},
   "outputs": [],
   "source": [
    "from transformers import PegasusForConditionalGeneration, PegasusTokenizer\n",
    "import torch\n",
    "\n",
    "src_text = [\n",
    "    \"\"\" PG&E stated it scheduled the blackouts in response to forecasts for high winds amid dry conditions. The aim is to reduce the risk of wildfires. Nearly 800 thousand customers were scheduled to be affected by the shutoffs which were expected to last through at least midday tomorrow.\"\"\"\n",
    "]\n",
    "\n",
    "model_name = \"google/pegasus-cnn_dailymail\"\n",
    "device = \"cuda\" if torch.cuda.is_available() else \"cpu\"\n",
    "tokenizer = PegasusTokenizer.from_pretrained(model_name)\n",
    "model = PegasusForConditionalGeneration.from_pretrained(model_name).to(device)\n",
    "batch = tokenizer(src_text, truncation=True, padding=\"longest\", return_tensors=\"pt\").to(device)\n",
    "translated = model.generate(**batch)\n",
    "op_text = tokenizer.batch_decode(translated, skip_special_tokens=True)"
   ]
  },
  {
   "cell_type": "markdown",
   "metadata": {},
   "source": [
    "## PEGASUS XSUM"
   ]
  },
  {
   "cell_type": "code",
   "execution_count": 1,
   "metadata": {},
   "outputs": [
    {
     "name": "stderr",
     "output_type": "stream",
     "text": [
      "C:\\Users\\saira\\AppData\\Local\\Packages\\PythonSoftwareFoundation.Python.3.11_qbz5n2kfra8p0\\LocalCache\\local-packages\\Python311\\site-packages\\tqdm\\auto.py:21: TqdmWarning: IProgress not found. Please update jupyter and ipywidgets. See https://ipywidgets.readthedocs.io/en/stable/user_install.html\n",
      "  from .autonotebook import tqdm as notebook_tqdm\n",
      "Some weights of PegasusForConditionalGeneration were not initialized from the model checkpoint at google/pegasus-xsum and are newly initialized: ['model.decoder.embed_positions.weight', 'model.encoder.embed_positions.weight']\n",
      "You should probably TRAIN this model on a down-stream task to be able to use it for predictions and inference.\n"
     ]
    }
   ],
   "source": [
    "from transformers import PegasusForConditionalGeneration, PegasusTokenizer\n",
    "import torch\n",
    "\n",
    "src_text = [\n",
    "    \"\"\" PG&E stated it scheduled the blackouts in response to forecasts for high winds amid dry conditions. The aim is to reduce the risk of wildfires. Nearly 800 thousand customers were scheduled to be affected by the shutoffs which were expected to last through at least midday tomorrow.\"\"\"\n",
    "]\n",
    "\n",
    "model_name = \"google/pegasus-xsum\"\n",
    "device = \"cuda\" if torch.cuda.is_available() else \"cpu\"\n",
    "tokenizer = PegasusTokenizer.from_pretrained(model_name)\n",
    "model = PegasusForConditionalGeneration.from_pretrained(model_name).to(device)\n",
    "batch = tokenizer(src_text, truncation=True, padding=\"longest\", return_tensors=\"pt\").to(device)\n",
    "translated = model.generate(**batch)\n",
    "tgt_text = tokenizer.batch_decode(translated, skip_special_tokens=True)\n",
    "assert (\n",
    "    tgt_text[0]\n",
    "    == \"California's largest electricity provider has turned off power to hundreds of thousands of customers.\"\n",
    ")"
   ]
  },
  {
   "cell_type": "code",
   "execution_count": 4,
   "metadata": {},
   "outputs": [
    {
     "data": {
      "text/plain": [
       "\"California's largest electricity provider has turned off power to hundreds of thousands of customers.\""
      ]
     },
     "execution_count": 4,
     "metadata": {},
     "output_type": "execute_result"
    }
   ],
   "source": [
    "\n",
    "tgt_text[0]"
   ]
  },
  {
   "cell_type": "code",
   "execution_count": 9,
   "metadata": {},
   "outputs": [],
   "source": [
    "teststr = 'बहुत धन्यवाद'"
   ]
  },
  {
   "cell_type": "code",
   "execution_count": 10,
   "metadata": {},
   "outputs": [],
   "source": [
    "s = teststr.split()"
   ]
  },
  {
   "cell_type": "code",
   "execution_count": 11,
   "metadata": {},
   "outputs": [
    {
     "data": {
      "text/plain": [
       "['बहुत', 'धन्यवाद']"
      ]
     },
     "execution_count": 11,
     "metadata": {},
     "output_type": "execute_result"
    }
   ],
   "source": [
    "s "
   ]
  },
  {
   "cell_type": "code",
   "execution_count": 2,
   "metadata": {},
   "outputs": [
    {
     "name": "stdout",
     "output_type": "stream",
     "text": [
      "Embedding Shape is (300,)\n",
      "Nearest Neighbors to नृत्य are:\n"
     ]
    },
    {
     "data": {
      "text/plain": [
       "[(0.8913929462432861, 'नृत्य।'),\n",
       " (0.8440190553665161, 'नृत्यगान'),\n",
       " (0.8374733924865723, 'नृत्यगीत'),\n",
       " (0.8336297869682312, 'नृत्यों'),\n",
       " (0.8265783190727234, 'नृत्यरत'),\n",
       " (0.7971948385238647, 'नृत्यकला'),\n",
       " (0.7879464626312256, 'नृत्त'),\n",
       " (0.7682990431785583, 'नृतक'),\n",
       " (0.7622954845428467, 'नृत्यरचना'),\n",
       " (0.7602956295013428, 'नृत्यग्राम')]"
      ]
     },
     "execution_count": 2,
     "metadata": {},
     "output_type": "execute_result"
    }
   ],
   "source": [
    "import fasttext\n",
    "import fasttext.util\n",
    "#fasttext.util.download_model('hi')\n",
    "ft = fasttext.load_model('wiki.hi/wiki.hi.bin')\n",
    "word = \"नृत्य\"\n",
    "print(\"Embedding Shape is {}\".format(ft.get_word_vector(word).shape))\n",
    "print(\"Nearest Neighbors to {} are:\".format(word))\n",
    "ft.get_nearest_neighbors(word) "
   ]
  },
  {
   "cell_type": "code",
   "execution_count": 22,
   "metadata": {},
   "outputs": [
    {
     "data": {
      "text/plain": [
       "numpy.ndarray"
      ]
     },
     "execution_count": 22,
     "metadata": {},
     "output_type": "execute_result"
    }
   ],
   "source": [
    "type(ft.get_word_vector(s[0]))\n",
    "#ft.get_nearest_neighbors(s[0])"
   ]
  },
  {
   "cell_type": "code",
   "execution_count": 18,
   "metadata": {},
   "outputs": [
    {
     "name": "stdout",
     "output_type": "stream",
     "text": [
      "1\n"
     ]
    }
   ],
   "source": [
    "if s[0] in ft.words:\n",
    "    print(1)"
   ]
  },
  {
   "cell_type": "code",
   "execution_count": null,
   "metadata": {},
   "outputs": [],
   "source": [
    "newlist = \"नृत्य\""
   ]
  },
  {
   "cell_type": "code",
   "execution_count": 3,
   "metadata": {},
   "outputs": [],
   "source": [
    "import numpy as np\n",
    "def get_average_vec(inp : str):\n",
    "    inplist = inp.split()\n",
    "    vecdim = 300\n",
    "    wordvec = np.zeros(vecdim)\n",
    "    count=0\n",
    "    for i in inplist:\n",
    "        if i in ft.words:\n",
    "            count+=1\n",
    "            wordvec += ft.get_word_vector(i)\n",
    "\n",
    "    wordvec = wordvec/count\n",
    "    return wordvec"
   ]
  },
  {
   "cell_type": "code",
   "execution_count": 4,
   "metadata": {},
   "outputs": [
    {
     "ename": "NameError",
     "evalue": "name 'teststr' is not defined",
     "output_type": "error",
     "traceback": [
      "\u001b[1;31m---------------------------------------------------------------------------\u001b[0m",
      "\u001b[1;31mNameError\u001b[0m                                 Traceback (most recent call last)",
      "\u001b[1;32md:\\Studies\\NLP\\NLP_project\\pegasus_cnn_daily.ipynb Cell 29\u001b[0m line \u001b[0;36m1\n\u001b[1;32m----> <a href='vscode-notebook-cell:/d%3A/Studies/NLP/NLP_project/pegasus_cnn_daily.ipynb#X40sZmlsZQ%3D%3D?line=0'>1</a>\u001b[0m strr \u001b[39m=\u001b[39m get_average_vec(teststr)\n\u001b[0;32m      <a href='vscode-notebook-cell:/d%3A/Studies/NLP/NLP_project/pegasus_cnn_daily.ipynb#X40sZmlsZQ%3D%3D?line=1'>2</a>\u001b[0m \u001b[39mprint\u001b[39m(strr)\n\u001b[0;32m      <a href='vscode-notebook-cell:/d%3A/Studies/NLP/NLP_project/pegasus_cnn_daily.ipynb#X40sZmlsZQ%3D%3D?line=2'>3</a>\u001b[0m \u001b[39mprint\u001b[39m()\n",
      "\u001b[1;31mNameError\u001b[0m: name 'teststr' is not defined"
     ]
    }
   ],
   "source": [
    "strr = get_average_vec(teststr)\n",
    "print(strr)\n",
    "print()\n",
    "print(strr.shape)"
   ]
  },
  {
   "cell_type": "code",
   "execution_count": 8,
   "metadata": {},
   "outputs": [],
   "source": [
    "import numpy as np\n",
    "from numpy.linalg import norm\n",
    "# A = ft.get_word_vector(s[0])\n",
    "# B = ft.get_word_vector(s[0])\n",
    "\n",
    "# #cosine = np.dot(A,B)/(norm(A)*norm(B))\n",
    "# cosine = np.dot(A,B)/(norm(A)*norm(B))\n",
    "# check = norm(A - B)\n",
    "# print(cosine)"
   ]
  },
  {
   "cell_type": "code",
   "execution_count": 31,
   "metadata": {},
   "outputs": [
    {
     "name": "stdout",
     "output_type": "stream",
     "text": [
      "0.0\n"
     ]
    }
   ],
   "source": [
    "print(check)"
   ]
  },
  {
   "cell_type": "code",
   "execution_count": 9,
   "metadata": {},
   "outputs": [],
   "source": [
    "def get_cosine_similarity(inputvector1, inputvector2):\n",
    "    assert (inputvector1.size == 300 and inputvector2.size == 300)\n",
    "    cosine = np.dot(inputvector1, inputvector2)/(norm(inputvector1)*norm(inputvector2))\n",
    "    return cosine"
   ]
  },
  {
   "cell_type": "code",
   "execution_count": 48,
   "metadata": {},
   "outputs": [
    {
     "data": {
      "text/plain": [
       "0.23954187"
      ]
     },
     "execution_count": 48,
     "metadata": {},
     "output_type": "execute_result"
    }
   ],
   "source": [
    "A = ft.get_word_vector(s[0])\n",
    "B = ft.get_word_vector(s[1])\n",
    "similarity = get_cosine_similarity(A, B)"
   ]
  },
  {
   "cell_type": "code",
   "execution_count": 42,
   "metadata": {},
   "outputs": [
    {
     "ename": "AssertionError",
     "evalue": "",
     "output_type": "error",
     "traceback": [
      "\u001b[1;31m---------------------------------------------------------------------------\u001b[0m",
      "\u001b[1;31mAssertionError\u001b[0m                            Traceback (most recent call last)",
      "\u001b[1;32md:\\Studies\\NLP\\NLP_project\\pegasus_cnn_daily.ipynb Cell 34\u001b[0m line \u001b[0;36m3\n\u001b[0;32m      <a href='vscode-notebook-cell:/d%3A/Studies/NLP/NLP_project/pegasus_cnn_daily.ipynb#X45sZmlsZQ%3D%3D?line=0'>1</a>\u001b[0m A \u001b[39m=\u001b[39m np\u001b[39m.\u001b[39marray(A)\n\u001b[0;32m      <a href='vscode-notebook-cell:/d%3A/Studies/NLP/NLP_project/pegasus_cnn_daily.ipynb#X45sZmlsZQ%3D%3D?line=1'>2</a>\u001b[0m B \u001b[39m=\u001b[39m np\u001b[39m.\u001b[39marray(B)\n\u001b[1;32m----> <a href='vscode-notebook-cell:/d%3A/Studies/NLP/NLP_project/pegasus_cnn_daily.ipynb#X45sZmlsZQ%3D%3D?line=2'>3</a>\u001b[0m get_cosine_similarity(A, B)\n",
      "\u001b[1;32md:\\Studies\\NLP\\NLP_project\\pegasus_cnn_daily.ipynb Cell 34\u001b[0m line \u001b[0;36m2\n\u001b[0;32m      <a href='vscode-notebook-cell:/d%3A/Studies/NLP/NLP_project/pegasus_cnn_daily.ipynb#X45sZmlsZQ%3D%3D?line=0'>1</a>\u001b[0m \u001b[39mdef\u001b[39;00m \u001b[39mget_cosine_similarity\u001b[39m(inputvector1 : \u001b[39mlist\u001b[39m, inputvector2 : \u001b[39mlist\u001b[39m):\n\u001b[1;32m----> <a href='vscode-notebook-cell:/d%3A/Studies/NLP/NLP_project/pegasus_cnn_daily.ipynb#X45sZmlsZQ%3D%3D?line=1'>2</a>\u001b[0m     \u001b[39massert\u001b[39;00m (inputvector1\u001b[39m.\u001b[39msize \u001b[39m==\u001b[39m \u001b[39m300\u001b[39m \u001b[39mand\u001b[39;00m inputvector2\u001b[39m.\u001b[39msize \u001b[39m==\u001b[39m \u001b[39m300\u001b[39m)\n\u001b[0;32m      <a href='vscode-notebook-cell:/d%3A/Studies/NLP/NLP_project/pegasus_cnn_daily.ipynb#X45sZmlsZQ%3D%3D?line=2'>3</a>\u001b[0m     \u001b[39mreturn\u001b[39;00m \u001b[39m0\u001b[39m\n",
      "\u001b[1;31mAssertionError\u001b[0m: "
     ]
    }
   ],
   "source": []
  },
  {
   "cell_type": "code",
   "execution_count": 41,
   "metadata": {},
   "outputs": [
    {
     "data": {
      "text/plain": [
       "301"
      ]
     },
     "execution_count": 41,
     "metadata": {},
     "output_type": "execute_result"
    }
   ],
   "source": []
  },
  {
   "cell_type": "code",
   "execution_count": 10,
   "metadata": {},
   "outputs": [
    {
     "name": "stdout",
     "output_type": "stream",
     "text": [
      "0.9260828981095699\n"
     ]
    }
   ],
   "source": [
    "newlist1 = \"नृत्य नृत्यगान\"\n",
    "newlist2 = \"नृत्यगीत नृत्यरत\"\n",
    "get_vec_1 = get_average_vec(newlist1)\n",
    "get_vec_2 = get_average_vec(newlist2)\n",
    "similarity = get_cosine_similarity(get_vec_1, get_vec_2)\n",
    "print(similarity)"
   ]
  },
  {
   "cell_type": "code",
   "execution_count": 11,
   "metadata": {},
   "outputs": [],
   "source": [
    "import pandas as pd\n",
    "\n",
    "testingdf = pd.read_csv('test.csv/test.csv')"
   ]
  },
  {
   "cell_type": "code",
   "execution_count": 12,
   "metadata": {},
   "outputs": [
    {
     "data": {
      "text/html": [
       "<div>\n",
       "<style scoped>\n",
       "    .dataframe tbody tr th:only-of-type {\n",
       "        vertical-align: middle;\n",
       "    }\n",
       "\n",
       "    .dataframe tbody tr th {\n",
       "        vertical-align: top;\n",
       "    }\n",
       "\n",
       "    .dataframe thead th {\n",
       "        text-align: right;\n",
       "    }\n",
       "</style>\n",
       "<table border=\"1\" class=\"dataframe\">\n",
       "  <thead>\n",
       "    <tr style=\"text-align: right;\">\n",
       "      <th></th>\n",
       "      <th>headline</th>\n",
       "      <th>article</th>\n",
       "    </tr>\n",
       "  </thead>\n",
       "  <tbody>\n",
       "    <tr>\n",
       "      <th>0</th>\n",
       "      <td>पठानकोट पहुंचे PM मोदी, एयरबेस का जायजा ले बॉर...</td>\n",
       "      <td>प्रधानमंत्री नरेंद्र मोदी पठानकोट एयरबेस पहुंच...</td>\n",
       "    </tr>\n",
       "    <tr>\n",
       "      <th>1</th>\n",
       "      <td>सचिन ने देशवासियों को समर्पित किया अपना दोहरा शतक</td>\n",
       "      <td>सचिन तेंदुलकर ने एकदिवसीय अंतरराष्ट्रीय क्रिके...</td>\n",
       "    </tr>\n",
       "    <tr>\n",
       "      <th>2</th>\n",
       "      <td>एनआईए करेगी छत्तीसगढ़ में सुरक्षा खामियों की ज...</td>\n",
       "      <td>केंद्रीय गृह राज्य मंत्री आर. पी. एन. सिंह ने ...</td>\n",
       "    </tr>\n",
       "    <tr>\n",
       "      <th>3</th>\n",
       "      <td>सीधी बात:  शाह बोले- हमारा बस चलता तो अब तक मं...</td>\n",
       "      <td>भारतीय जनता पार्टी (बीजेपी) के राष्ट्रीय अध्यक...</td>\n",
       "    </tr>\n",
       "    <tr>\n",
       "      <th>4</th>\n",
       "      <td>ऋषभ पंत के पास यूनिक टैलेंट, उसके साथ छेड़छाड़ न...</td>\n",
       "      <td>ऋषभ पंत की कभी कभार इस बात के लिए आलोचना की जा...</td>\n",
       "    </tr>\n",
       "  </tbody>\n",
       "</table>\n",
       "</div>"
      ],
      "text/plain": [
       "                                            headline  \\\n",
       "0  पठानकोट पहुंचे PM मोदी, एयरबेस का जायजा ले बॉर...   \n",
       "1  सचिन ने देशवासियों को समर्पित किया अपना दोहरा शतक   \n",
       "2  एनआईए करेगी छत्तीसगढ़ में सुरक्षा खामियों की ज...   \n",
       "3  सीधी बात:  शाह बोले- हमारा बस चलता तो अब तक मं...   \n",
       "4  ऋषभ पंत के पास यूनिक टैलेंट, उसके साथ छेड़छाड़ न...   \n",
       "\n",
       "                                             article  \n",
       "0  प्रधानमंत्री नरेंद्र मोदी पठानकोट एयरबेस पहुंच...  \n",
       "1  सचिन तेंदुलकर ने एकदिवसीय अंतरराष्ट्रीय क्रिके...  \n",
       "2  केंद्रीय गृह राज्य मंत्री आर. पी. एन. सिंह ने ...  \n",
       "3  भारतीय जनता पार्टी (बीजेपी) के राष्ट्रीय अध्यक...  \n",
       "4  ऋषभ पंत की कभी कभार इस बात के लिए आलोचना की जा...  "
      ]
     },
     "execution_count": 12,
     "metadata": {},
     "output_type": "execute_result"
    }
   ],
   "source": [
    "testingdf.head()"
   ]
  },
  {
   "cell_type": "code",
   "execution_count": 16,
   "metadata": {},
   "outputs": [
    {
     "data": {
      "text/plain": [
       "'सचिन ने देशवासियों को समर्पित किया अपना दोहरा शतक'"
      ]
     },
     "execution_count": 16,
     "metadata": {},
     "output_type": "execute_result"
    }
   ],
   "source": [
    "testingdf['headline'][1]"
   ]
  },
  {
   "cell_type": "code",
   "execution_count": 17,
   "metadata": {},
   "outputs": [],
   "source": [
    "ip1 = \"प्रधानमंत्री नरेंद्र मोदी ने पठानकोट एयरबेस पहुंचकर सुरक्षा स्थिति की समीक्षा की है और वायुसेना के कर्मियों से मिलकर उनके साथीयों को संबोधित किया है। सुबह करीब 7:30 बजे, प्रधानमंत्री ने पंजाब के पठानकोट का संदर्भ लेकर यात्रा की। उन्होंने एयरबेस की निगरानी के बाद सीमाई क्षेत्रों का हवाई सर्वेक्षण भी करने का निर्णय लिया है। पिछले हफ्ते, पठानकोट एयरबेस पर आतंकियों ने हमला किया था, लेकिन उनकी कोशिश नाकाम रही और सभी 6 पाकिस्तानी आतंकी मार गए थे, जबकि 7 सुरक्षाबलें शहीद हुई थीं। भारत ने दोषियों के खिलाफ कड़ी कार्रवाई की मांग की है । सूचना के अनुसार, प्रधानमंत्री के साथ सेना और एयरफोर्स के चीफ भी मौजूद हो सकते हैं। आतंकियों के हमले के तीसरे दिन, रक्षा मंत्री मनोहर पर्रिकर ने भी पठानकोट का दौरा किया था और उन्होंने साफ तौर पर बताया कि आतंकी विदेश से आए थे और उनके पास पाकिस्तान से आए सामग्री मिली थी। इस मामले की जांच एनआईए को सौंपी गई है । इस बीच, पाकिस्तान के प्रधानमंत्री नवाज शरीफ ने भी भारत के द्वारा पठानकोट आतंकी हमले के संबंध में दी गई सबूतों के आधार पर जांच करने के आदेश दिए हैं। इस पर गुरुवार को उच्च स्तरीय बैठक बुलाई गई, जिसमें पठानकोट हमले पर चर्चा हुई। बैठक के बाद, नवाज शरीफ ने भारत के सबूतों के आधार पर जांच करने के आदेश दिए हैं । सूचना के अनुसार, शरीफ ने भारत की ओर से सौंपे गए सबूतों के आधार पर जांच कराए जाने के लिए सहमति जताई है और इसके बाद उन्होंने इंटेलिजेंस ब्यूरो के चीफ को कार्रवाई करने के लिए सौंप दिया है। बैठक में शरीफ ने भारत के साथ आतंकरोधी नीति के तहत सहयोग बढ़ाने के लिए भी अपनी तैयारी जताई है। इस मौके पर वह अपने राष्ट्रीय सुरक्षा सलाहकार नासिर खान जंजुआ से भारत के एनएसए अजित डोभाल से संपर्क बनाए रखने का आदेश भी दिया है\"\n",
    "ip2 = testingdf['headline'][1]\n",
    "\n",
    "ip1vec = get_average_vec(ip1)\n",
    "ip2vec = get_average_vec(ip2)"
   ]
  },
  {
   "cell_type": "code",
   "execution_count": 18,
   "metadata": {},
   "outputs": [
    {
     "name": "stdout",
     "output_type": "stream",
     "text": [
      "0.7469793800194328\n"
     ]
    }
   ],
   "source": [
    "similarity = get_cosine_similarity(ip1vec, ip2vec)\n",
    "print(similarity)"
   ]
  }
 ],
 "metadata": {
  "kernelspec": {
   "display_name": "Python 3",
   "language": "python",
   "name": "python3"
  },
  "language_info": {
   "codemirror_mode": {
    "name": "ipython",
    "version": 3
   },
   "file_extension": ".py",
   "mimetype": "text/x-python",
   "name": "python",
   "nbconvert_exporter": "python",
   "pygments_lexer": "ipython3",
   "version": "3.11.6"
  }
 },
 "nbformat": 4,
 "nbformat_minor": 2
}
