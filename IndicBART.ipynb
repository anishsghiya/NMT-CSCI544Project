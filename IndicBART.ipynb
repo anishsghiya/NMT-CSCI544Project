{
 "cells": [
  {
   "cell_type": "code",
   "execution_count": 1,
   "id": "ffa5b669",
   "metadata": {},
   "outputs": [],
   "source": [
    "import pandas as pd"
   ]
  },
  {
   "cell_type": "code",
   "execution_count": 2,
   "id": "3a3d1c47",
   "metadata": {},
   "outputs": [],
   "source": [
    "train = pd.read_csv('train.csv', lineterminator='\\n' )\n",
    "test = pd.read_csv('test.csv', lineterminator='\\n')"
   ]
  },
  {
   "cell_type": "code",
   "execution_count": 3,
   "id": "cbea41f8",
   "metadata": {},
   "outputs": [],
   "source": [
    "test.dropna(inplace=True)"
   ]
  },
  {
   "cell_type": "code",
   "execution_count": 4,
   "id": "d920e562",
   "metadata": {},
   "outputs": [],
   "source": [
    "test.reset_index(inplace=True)\n",
    "test = test[['summary', 'article']]"
   ]
  },
  {
   "cell_type": "code",
   "execution_count": 5,
   "id": "2453c949",
   "metadata": {},
   "outputs": [
    {
     "data": {
      "text/html": [
       "<div>\n",
       "<style scoped>\n",
       "    .dataframe tbody tr th:only-of-type {\n",
       "        vertical-align: middle;\n",
       "    }\n",
       "\n",
       "    .dataframe tbody tr th {\n",
       "        vertical-align: top;\n",
       "    }\n",
       "\n",
       "    .dataframe thead th {\n",
       "        text-align: right;\n",
       "    }\n",
       "</style>\n",
       "<table border=\"1\" class=\"dataframe\">\n",
       "  <thead>\n",
       "    <tr style=\"text-align: right;\">\n",
       "      <th></th>\n",
       "      <th>summary</th>\n",
       "      <th>article</th>\n",
       "    </tr>\n",
       "  </thead>\n",
       "  <tbody>\n",
       "    <tr>\n",
       "      <th>0</th>\n",
       "      <td>पाकिस्तानी जासूस ने खुद को सैन्य कमांडर बताया ...</td>\n",
       "      <td>जम्मू कश्मीर पुलिस के एक अधिकारी ने घाटी में प...</td>\n",
       "    </tr>\n",
       "    <tr>\n",
       "      <th>1</th>\n",
       "      <td>समाजवादी पार्टी के पूर्व महासचिव और राज्यसभा स...</td>\n",
       "      <td>नोट के बदले वोट मामले में आरोपी समाजवादी पार्ट...</td>\n",
       "    </tr>\n",
       "    <tr>\n",
       "      <th>2</th>\n",
       "      <td>सैलरी के बारे में बात करते वक्‍त पर्सनल बातें ...</td>\n",
       "      <td>VIDEO: अब सैलरी होगी कम, सेविंग ज़्यादा!</td>\n",
       "    </tr>\n",
       "    <tr>\n",
       "      <th>3</th>\n",
       "      <td>आईआईटी कानपुर द्वारा तैयार सिमरन (सैटेलाइट इमे...</td>\n",
       "      <td>रेल नेविगेशन से संबंधित आईआईटी कानपुर की महत्व...</td>\n",
       "    </tr>\n",
       "    <tr>\n",
       "      <th>4</th>\n",
       "      <td>शिवपाल की यह टिप्पणी फिल्म 'कालिया' के डायलाग ...</td>\n",
       "      <td>प्रस्तावित समाजवादी धर्मनिरपेक्ष मोर्चा का नेत...</td>\n",
       "    </tr>\n",
       "  </tbody>\n",
       "</table>\n",
       "</div>"
      ],
      "text/plain": [
       "                                             summary  \\\n",
       "0  पाकिस्तानी जासूस ने खुद को सैन्य कमांडर बताया ...   \n",
       "1  समाजवादी पार्टी के पूर्व महासचिव और राज्यसभा स...   \n",
       "2  सैलरी के बारे में बात करते वक्‍त पर्सनल बातें ...   \n",
       "3  आईआईटी कानपुर द्वारा तैयार सिमरन (सैटेलाइट इमे...   \n",
       "4  शिवपाल की यह टिप्पणी फिल्म 'कालिया' के डायलाग ...   \n",
       "\n",
       "                                             article  \n",
       "0  जम्मू कश्मीर पुलिस के एक अधिकारी ने घाटी में प...  \n",
       "1  नोट के बदले वोट मामले में आरोपी समाजवादी पार्ट...  \n",
       "2            VIDEO: अब सैलरी होगी कम, सेविंग ज़्यादा!  \n",
       "3  रेल नेविगेशन से संबंधित आईआईटी कानपुर की महत्व...  \n",
       "4  प्रस्तावित समाजवादी धर्मनिरपेक्ष मोर्चा का नेत...  "
      ]
     },
     "execution_count": 5,
     "metadata": {},
     "output_type": "execute_result"
    }
   ],
   "source": [
    "test.head()"
   ]
  },
  {
   "cell_type": "code",
   "execution_count": 6,
   "id": "f39d6c66",
   "metadata": {},
   "outputs": [
    {
     "name": "stderr",
     "output_type": "stream",
     "text": [
      "Special tokens have been added in the vocabulary, make sure the associated word embeddings are fine-tuned or trained.\n"
     ]
    }
   ],
   "source": [
    "from transformers import MBartForConditionalGeneration, AutoModelForSeq2SeqLM\n",
    "from transformers import AlbertTokenizer, AutoTokenizer\n",
    "\n",
    "tokenizer = AutoTokenizer.from_pretrained(\"ai4bharat/IndicBART\", do_lower_case=False, use_fast=False, keep_accents=True)\n",
    "\n",
    "\n",
    "model = AutoModelForSeq2SeqLM.from_pretrained(\"ai4bharat/IndicBART\")\n"
   ]
  },
  {
   "cell_type": "code",
   "execution_count": 7,
   "id": "2004deda",
   "metadata": {},
   "outputs": [],
   "source": [
    "bos_id = tokenizer._convert_token_to_id_with_added_voc(\"<s>\")\n",
    "eos_id = tokenizer._convert_token_to_id_with_added_voc(\"</s>\")\n",
    "pad_id = tokenizer._convert_token_to_id_with_added_voc(\"<pad>\")"
   ]
  },
  {
   "cell_type": "code",
   "execution_count": 8,
   "id": "421e4803",
   "metadata": {},
   "outputs": [],
   "source": [
    "summaries = []\n",
    "row_id = []\n",
    "for i in range(50):\n",
    "    try:\n",
    "        inp = tokenizer(test.iloc[i,1], add_special_tokens=False, return_tensors=\"pt\", padding=True).input_ids # tensor([[  466,  1981,    80, 25573, 64001, 64004]])\n",
    "\n",
    "        out = tokenizer(test.iloc[i,0], add_special_tokens=False, return_tensors=\"pt\", padding=True).input_ids \n",
    "        model_outputs=model(input_ids=inp, decoder_input_ids=out[:,0:-1], labels=out[:,1:])\n",
    "        model_output=model.generate(inp, use_cache=True, num_beams=4, max_length=20, min_length=1, early_stopping=True, pad_token_id=pad_id, bos_token_id=bos_id, eos_token_id=eos_id, decoder_start_token_id=tokenizer._convert_token_to_id_with_added_voc(\"<2en>\"))\n",
    "\n",
    "\n",
    "\n",
    "        decoded_output=tokenizer.decode(model_output[0], skip_special_tokens=True, clean_up_tokenization_spaces=False)\n",
    "        summaries.append(decoded_output)\n",
    "        row_id.append(i)\n",
    "    except:\n",
    "        continue"
   ]
  },
  {
   "cell_type": "code",
   "execution_count": 9,
   "id": "1abd6388",
   "metadata": {},
   "outputs": [],
   "source": [
    "articles = [test.iloc[i, 1] for i in row_id]\n",
    "target_summaries = [test.iloc[i, 0] for i in row_id]"
   ]
  },
  {
   "cell_type": "code",
   "execution_count": 13,
   "id": "7faef926",
   "metadata": {},
   "outputs": [],
   "source": [
    "columns = {'articles':articles, 'target_summaries':target_summaries, 'predicted_summaries': summaries}"
   ]
  },
  {
   "cell_type": "code",
   "execution_count": 14,
   "id": "7e554db8",
   "metadata": {},
   "outputs": [],
   "source": [
    "df = pd.DataFrame(columns)"
   ]
  },
  {
   "cell_type": "code",
   "execution_count": 20,
   "id": "362b2706",
   "metadata": {},
   "outputs": [],
   "source": [
    "df.to_csv('summaries.csv')"
   ]
  },
  {
   "cell_type": "code",
   "execution_count": null,
   "id": "89f6553b",
   "metadata": {},
   "outputs": [],
   "source": []
  }
 ],
 "metadata": {
  "kernelspec": {
   "display_name": "Python 3 (ipykernel)",
   "language": "python",
   "name": "python3"
  },
  "language_info": {
   "codemirror_mode": {
    "name": "ipython",
    "version": 3
   },
   "file_extension": ".py",
   "mimetype": "text/x-python",
   "name": "python",
   "nbconvert_exporter": "python",
   "pygments_lexer": "ipython3",
   "version": "3.9.12"
  }
 },
 "nbformat": 4,
 "nbformat_minor": 5
}
